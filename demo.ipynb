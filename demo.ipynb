{
  "nbformat": 4,
  "nbformat_minor": 0,
  "metadata": {
    "colab": {
      "provenance": [],
      "mount_file_id": "1431VOqPveDHUiAuOadNcVhOqVIaBPxH3",
      "authorship_tag": "ABX9TyOKYj1b39FbGHW9adP0Jdju",
      "include_colab_link": true
    },
    "kernelspec": {
      "name": "python3",
      "display_name": "Python 3"
    },
    "language_info": {
      "name": "python"
    }
  },
  "cells": [
    {
      "cell_type": "markdown",
      "metadata": {
        "id": "view-in-github",
        "colab_type": "text"
      },
      "source": [
        "<a href=\"https://colab.research.google.com/github/b00033811/arab-youth-demo/blob/main/demo.ipynb\" target=\"_parent\"><img src=\"https://colab.research.google.com/assets/colab-badge.svg\" alt=\"Open In Colab\"/></a>"
      ]
    },
    {
      "cell_type": "code",
      "execution_count": null,
      "metadata": {
        "id": "Q8_dZoNzCBjC"
      },
      "outputs": [],
      "source": []
    },
    {
      "cell_type": "markdown",
      "source": [
        "# Data Understanding\n",
        "\n",
        "-  Collect initial data: Aquire the necessary data and load it\n",
        "\n",
        "- Describe Data\n",
        "\n",
        "- Explore data\n",
        "\n",
        "- verify data quality\n",
        "\n",
        "\n",
        "\n",
        "\n",
        "\n",
        "\n"
      ],
      "metadata": {
        "id": "yedhQ0gvNDxO"
      }
    },
    {
      "cell_type": "markdown",
      "source": [],
      "metadata": {
        "id": "RxqKv2PrMEI4"
      }
    },
    {
      "cell_type": "code",
      "source": [],
      "metadata": {
        "id": "AqkAHGptPeRV"
      },
      "execution_count": null,
      "outputs": []
    }
  ]
}